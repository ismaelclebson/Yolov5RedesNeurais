{
  "nbformat": 4,
  "nbformat_minor": 0,
  "metadata": {
    "colab": {
      "provenance": [],
      "mount_file_id": "1XeRcmKo8JJBWcAM5goMNIxoIqMJFxAaf",
      "authorship_tag": "ABX9TyOr6iDuunNEDXD68Vkpu70t",
      "include_colab_link": true
    },
    "kernelspec": {
      "name": "python3",
      "display_name": "Python 3"
    },
    "language_info": {
      "name": "python"
    },
    "gpuClass": "standard"
  },
  "cells": [
    {
      "cell_type": "markdown",
      "metadata": {
        "id": "view-in-github",
        "colab_type": "text"
      },
      "source": [
        "<a href=\"https://colab.research.google.com/github/ismaelclebson/Yolov5RedesNeurais/blob/main/Buscar_Imagens.ipynb\" target=\"_parent\"><img src=\"https://colab.research.google.com/assets/colab-badge.svg\" alt=\"Open In Colab\"/></a>"
      ]
    },
    {
      "cell_type": "code",
      "execution_count": null,
      "metadata": {
        "colab": {
          "base_uri": "https://localhost:8080/"
        },
        "id": "2i7I4XkU4UBO",
        "outputId": "a74d70c5-8b72-4704-812c-7c4540c6df08"
      },
      "outputs": [
        {
          "output_type": "stream",
          "name": "stdout",
          "text": [
            "Looking in indexes: https://pypi.org/simple, https://us-python.pkg.dev/colab-wheels/public/simple/\n",
            "Collecting bing-image-downloader\n",
            "  Downloading bing_image_downloader-1.1.2-py3-none-any.whl (5.9 kB)\n",
            "Installing collected packages: bing-image-downloader\n",
            "Successfully installed bing-image-downloader-1.1.2\n"
          ]
        }
      ],
      "source": [
        "!pip install bing-image-downloader"
      ]
    },
    {
      "cell_type": "code",
      "source": [
        "!mkdir images"
      ],
      "metadata": {
        "id": "3sn_aKiY4ssF"
      },
      "execution_count": null,
      "outputs": []
    },
    {
      "cell_type": "code",
      "source": [
        "from bing_image_downloader import downloader\n",
        "downloader.download(\"gato anão\", limit = 10, output_dir='images')"
      ],
      "metadata": {
        "colab": {
          "base_uri": "https://localhost:8080/"
        },
        "id": "zn2yh_q043Mz",
        "outputId": "d07e59d6-5c58-46b8-ff15-caa9fc6f1142"
      },
      "execution_count": null,
      "outputs": [
        {
          "output_type": "stream",
          "name": "stdout",
          "text": [
            "[%] Downloading Images to /content/images/gato anão\n",
            "\n",
            "\n",
            "[!!]Indexing page: 1\n",
            "\n",
            "[%] Indexed 10 Images on Page 1.\n",
            "\n",
            "===============================================\n",
            "\n",
            "[%] Downloading Image #1 from https://blog.cobasi.com.br/wp-content/uploads/2021/04/gato-anao-capa.png\n",
            "[%] File Downloaded !\n",
            "\n",
            "[%] Downloading Image #2 from https://s.yimg.com/ny/api/res/1.2/Tj3czq_VXF_IXGxBYjRmEA--/YXBwaWQ9aGlnaGxhbmRlcjt3PTk2MDtoPTY0MA--/https://s.yimg.com/os/creatr-uploaded-images/2020-12/4da12a40-44b1-11eb-9efc-cf600824a92a\n",
            "[!] Issue getting: https://s.yimg.com/ny/api/res/1.2/Tj3czq_VXF_IXGxBYjRmEA--/YXBwaWQ9aGlnaGxhbmRlcjt3PTk2MDtoPTY0MA--/https://s.yimg.com/os/creatr-uploaded-images/2020-12/4da12a40-44b1-11eb-9efc-cf600824a92a\n",
            "[!] Error:: HTTP Error 401: Unauthorized\n",
            "[%] Downloading Image #2 from https://cdn.adtechpanda.com/4e75d449-0a4c-4e37-a6dc-0f53e9969f54/-/stretch/off/-/preview/1024x1024/-/format/jpeg/-/quality/lightest/\n",
            "[%] File Downloaded !\n",
            "\n",
            "[%] Downloading Image #3 from https://www.gadoo.com.br/wp-content/uploads/2016/07/3-imgur1.jpg\n",
            "[%] File Downloaded !\n",
            "\n",
            "[%] Downloading Image #4 from https://i0.statig.com.br/bancodeimagens/ey/2v/k4/ey2vk4jsgnqi6zv2qfn32onh3.jpg\n",
            "[%] File Downloaded !\n",
            "\n",
            "[%] Downloading Image #5 from https://folhago.com.br/wp-content/uploads/2020/12/CAPA-PARA-POST-34-1130x580.png\n",
            "[%] File Downloaded !\n",
            "\n",
            "[%] Downloading Image #6 from http://tendencee.com.br/wp-content/uploads/2020/03/xEste-gato-com-nanismo-sera-do-tamanho-de-um-gatinho-para-sempre-811VMQ4EUt.jpg.pagespeed.ic.b6v-nwL8Q2.jpg\n",
            "[%] File Downloaded !\n",
            "\n",
            "[%] Downloading Image #7 from https://i.pinimg.com/originals/a8/55/63/a85563dec1bb06c5725646e91a8619d8.jpg\n",
            "[%] File Downloaded !\n",
            "\n",
            "[%] Downloading Image #8 from http://tendencee.com.br/wp-content/uploads/2020/03/xEste-gato-com-nanismo-sera-do-tamanho-de-um-gatinho-para-sempre-xrFPOVW1NH.jpg.pagespeed.ic.xKhz_VSPta.jpg\n",
            "[%] File Downloaded !\n",
            "\n",
            "[%] Downloading Image #9 from https://tendencee.com.br/wp-content/uploads/2020/03/Este-gato-com-nanismo-sera-do-tamanho-de-um-gatinho-para-sempre-5JlB8cgb5C.jpg\n",
            "[%] File Downloaded !\n",
            "\n",
            "\n",
            "\n",
            "[!!]Indexing page: 2\n",
            "\n",
            "[%] Indexed 15 Images on Page 2.\n",
            "\n",
            "===============================================\n",
            "\n",
            "[%] Downloading Image #10 from http://image.cachorrogato.com.br/thumb/500/500/1/imagens/racas/imagem200.jpg\n",
            "[%] File Downloaded !\n",
            "\n",
            "\n",
            "\n",
            "[%] Done. Downloaded 10 images.\n"
          ]
        }
      ]
    },
    {
      "cell_type": "code",
      "source": [
        "downloader.download(\"Cachorro Salsicha\", limit = 10, output_dir='images')"
      ],
      "metadata": {
        "colab": {
          "base_uri": "https://localhost:8080/"
        },
        "id": "vjZen-396J_I",
        "outputId": "ffba3385-fd01-4524-a68f-1e5d199c7fba"
      },
      "execution_count": null,
      "outputs": [
        {
          "output_type": "stream",
          "name": "stdout",
          "text": [
            "[%] Downloading Images to /content/images/Cachorro Salsicha\n",
            "\n",
            "\n",
            "[!!]Indexing page: 1\n",
            "\n",
            "[%] Indexed 10 Images on Page 1.\n",
            "\n",
            "===============================================\n",
            "\n",
            "[%] Downloading Image #1 from https://demonstre.com/enciclopets/wp-content/uploads/2020/05/fe396eca2d9fc62183852011d5589be2-1024x768.jpg\n",
            "[%] File Downloaded !\n",
            "\n",
            "[%] Downloading Image #2 from https://cdn.vidanimal.com.br/wp-content/uploads/cachorro-salsicha2-1122x748.jpg\n",
            "[%] File Downloaded !\n",
            "\n",
            "[%] Downloading Image #3 from https://3.bp.blogspot.com/-DYP1iWbuSOI/U67rdjLHn9I/AAAAAAAAQrg/rDotPmCyphU/s1600/DSC03337+A.jpg\n",
            "[%] File Downloaded !\n",
            "\n",
            "[%] Downloading Image #4 from https://2.bp.blogspot.com/-mP2nJS-lc-Y/T8dP9Qnp9YI/AAAAAAAABa8/eMpAybyvTfw/s1600/Imagen%2B464.jpg\n",
            "[%] File Downloaded !\n",
            "\n",
            "[%] Downloading Image #5 from https://images4.alphacoders.com/262/262804.jpg\n",
            "[%] File Downloaded !\n",
            "\n",
            "[%] Downloading Image #6 from https://2.bp.blogspot.com/-EoJ8hDrHdAw/UZuGzYO7mYI/AAAAAAAAAP0/zHiHmeksHbM/s1600/cachorro-salsicha13.jpg\n",
            "[%] File Downloaded !\n",
            "\n",
            "[%] Downloading Image #7 from https://www.mundoecologia.com.br/wp-content/uploads/2020/06/Dachshund-7-768x513.jpg\n",
            "[%] File Downloaded !\n",
            "\n",
            "[%] Downloading Image #8 from http://3.bp.blogspot.com/-BEctJvX91NA/U67nuCL3WoI/AAAAAAAAQrQ/uGHJYyHJn9s/s1600/DSC03339.JPG\n",
            "[%] File Downloaded !\n",
            "\n",
            "[%] Downloading Image #9 from http://tudosobrecachorros.com.br/wp-content/uploads/Dachshund.jpg\n",
            "[%] File Downloaded !\n",
            "\n",
            "[%] Downloading Image #10 from https://image.cachorrogato.com.br/textimages/cachorros-pequenos-dachshund.jpg\n",
            "[!] Issue getting: https://image.cachorrogato.com.br/textimages/cachorros-pequenos-dachshund.jpg\n",
            "[!] Error:: <urlopen error [SSL: CERTIFICATE_VERIFY_FAILED] certificate verify failed: unable to get local issuer certificate (_ssl.c:1131)>\n",
            "\n",
            "\n",
            "[!!]Indexing page: 2\n",
            "\n",
            "[%] Indexed 17 Images on Page 2.\n",
            "\n",
            "===============================================\n",
            "\n",
            "[%] Downloading Image #10 from https://panelaosupermercados.com.br/custom/558/uploads/2019/dezembro/cachorro-quente-com-pure-de-batata.png\n",
            "[%] File Downloaded !\n",
            "\n",
            "\n",
            "\n",
            "[%] Done. Downloaded 10 images.\n"
          ]
        }
      ]
    }
  ]
}